{
  "nbformat": 4,
  "nbformat_minor": 0,
  "metadata": {
    "colab": {
      "provenance": []
    },
    "kernelspec": {
      "name": "python3",
      "display_name": "Python 3"
    },
    "language_info": {
      "name": "python"
    }
  },
  "cells": [
    {
      "cell_type": "code",
      "execution_count": null,
      "metadata": {
        "id": "ZlxGDPCjn2Kx"
      },
      "outputs": [],
      "source": [
        "from .func_dict_1 import\n",
        "from .func_dict_2 import popular_words\n",
        "from .func_dict_3 import count_words\n",
        "\n",
        "__all__ = (\n",
        "           'popular_words', 'count_words',\n",
        "          )"
      ]
    }
  ]
}